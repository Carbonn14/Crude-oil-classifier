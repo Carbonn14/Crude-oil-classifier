{
 "cells": [
  {
   "cell_type": "code",
   "execution_count": 1,
   "id": "b7aca493",
   "metadata": {},
   "outputs": [],
   "source": [
    "import sys"
   ]
  },
  {
   "cell_type": "code",
   "execution_count": null,
   "id": "af867fe3",
   "metadata": {},
   "outputs": [
    {
     "name": "stdout",
     "output_type": "stream",
     "text": [
      "A- Pipe fittings like couplings, tees, elbows, wyes, plugs, unions, pipe caps, and reducers\n",
      "B- All flanges\n",
      "C- All line valves\n",
      "D- All types of expansion joints, flexible connections, and hose assemblies\n",
      "E- Strainers, filters, separators, and steam traps\n",
      "F- measuring devices, including pressure gauges, level gauges, sight glasses, levels, and pressure transmitters\n",
      "G- certified capacity-related pressure relief devices acceptable as primary overpressure protection on boilers, pressure vessels and pressure piping, and fusible plugs\n",
      "H- pressure-retaining components that do not fall into Categories A to G\n"
     ]
    }
   ],
   "source": [
    "print('A- Pipe fittings like couplings, tees, elbows, wyes, plugs, unions, pipe caps, and reducers')\n",
    "print('B- All flanges')\n",
    "print('C- All line valves')\n",
    "print('D- All types of expansion joints, flexible connections, and hose assemblies')\n",
    "print('E- Strainers, filters, separators, and steam traps')\n",
    "print('F- measuring devices, including pressure gauges, level gauges, sight glasses, levels, and pressure transmitters')\n",
    "print('G- certified capacity-related pressure relief devices acceptable as primary overpressure protection on boilers, pressure vessels and pressure piping, and fusible plugs')\n",
    "print('H- pressure-retaining components that do not fall into Categories A to G')\n",
    "x=input('\\nEnter the code from the above list that applies to your equipment: ')"
   ]
  },
  {
   "cell_type": "code",
   "execution_count": 3,
   "id": "55665c1b",
   "metadata": {},
   "outputs": [
    {
     "name": "stdout",
     "output_type": "stream",
     "text": [
      "Can be registered as fitting\n"
     ]
    },
    {
     "ename": "Exception",
     "evalue": "Code finished",
     "output_type": "error",
     "traceback": [
      "\u001b[1;31m---------------------------------------------------------------------------\u001b[0m",
      "\u001b[1;31mException\u001b[0m                                 Traceback (most recent call last)",
      "Cell \u001b[1;32mIn[3], line 3\u001b[0m\n\u001b[0;32m      1\u001b[0m \u001b[38;5;28;01mif\u001b[39;00m x\u001b[38;5;241m==\u001b[39m\u001b[38;5;124m'\u001b[39m\u001b[38;5;124mA\u001b[39m\u001b[38;5;124m'\u001b[39m \u001b[38;5;129;01mor\u001b[39;00m x\u001b[38;5;241m==\u001b[39m\u001b[38;5;124m'\u001b[39m\u001b[38;5;124ma\u001b[39m\u001b[38;5;124m'\u001b[39m \u001b[38;5;129;01mor\u001b[39;00m x\u001b[38;5;241m==\u001b[39m\u001b[38;5;124m'\u001b[39m\u001b[38;5;124mB\u001b[39m\u001b[38;5;124m'\u001b[39m \u001b[38;5;129;01mor\u001b[39;00m x\u001b[38;5;241m==\u001b[39m\u001b[38;5;124m'\u001b[39m\u001b[38;5;124mb\u001b[39m\u001b[38;5;124m'\u001b[39m \u001b[38;5;129;01mor\u001b[39;00m x\u001b[38;5;241m==\u001b[39m\u001b[38;5;124m'\u001b[39m\u001b[38;5;124mC\u001b[39m\u001b[38;5;124m'\u001b[39m \u001b[38;5;129;01mor\u001b[39;00m x\u001b[38;5;241m==\u001b[39m\u001b[38;5;124m'\u001b[39m\u001b[38;5;124mc\u001b[39m\u001b[38;5;124m'\u001b[39m \u001b[38;5;129;01mor\u001b[39;00m x\u001b[38;5;241m==\u001b[39m\u001b[38;5;124m'\u001b[39m\u001b[38;5;124mD\u001b[39m\u001b[38;5;124m'\u001b[39m \u001b[38;5;129;01mor\u001b[39;00m x\u001b[38;5;241m==\u001b[39m\u001b[38;5;124m'\u001b[39m\u001b[38;5;124md\u001b[39m\u001b[38;5;124m'\u001b[39m \u001b[38;5;129;01mor\u001b[39;00m x\u001b[38;5;241m==\u001b[39m\u001b[38;5;124m'\u001b[39m\u001b[38;5;124mE\u001b[39m\u001b[38;5;124m'\u001b[39m \u001b[38;5;129;01mor\u001b[39;00m x\u001b[38;5;241m==\u001b[39m\u001b[38;5;124m'\u001b[39m\u001b[38;5;124me\u001b[39m\u001b[38;5;124m'\u001b[39m \u001b[38;5;129;01mor\u001b[39;00m x\u001b[38;5;241m==\u001b[39m\u001b[38;5;124m'\u001b[39m\u001b[38;5;124mF\u001b[39m\u001b[38;5;124m'\u001b[39m \u001b[38;5;129;01mor\u001b[39;00m x\u001b[38;5;241m==\u001b[39m\u001b[38;5;124m'\u001b[39m\u001b[38;5;124mf\u001b[39m\u001b[38;5;124m'\u001b[39m \u001b[38;5;129;01mor\u001b[39;00m x\u001b[38;5;241m==\u001b[39m\u001b[38;5;124m'\u001b[39m\u001b[38;5;124mG\u001b[39m\u001b[38;5;124m'\u001b[39m \u001b[38;5;129;01mor\u001b[39;00m x\u001b[38;5;241m==\u001b[39m\u001b[38;5;124m'\u001b[39m\u001b[38;5;124mg\u001b[39m\u001b[38;5;124m'\u001b[39m:\n\u001b[0;32m      2\u001b[0m     \u001b[38;5;28mprint\u001b[39m(\u001b[38;5;124m'\u001b[39m\u001b[38;5;124mCan be registered as fitting\u001b[39m\u001b[38;5;124m'\u001b[39m)\n\u001b[1;32m----> 3\u001b[0m     \u001b[38;5;28;01mraise\u001b[39;00m \u001b[38;5;167;01mException\u001b[39;00m(\u001b[38;5;124m'\u001b[39m\u001b[38;5;124mCode finished\u001b[39m\u001b[38;5;124m'\u001b[39m)\n\u001b[0;32m      4\u001b[0m     \u001b[38;5;28minput\u001b[39m(\u001b[38;5;124m'\u001b[39m\u001b[38;5;124mPress enter to exit...\u001b[39m\u001b[38;5;124m'\u001b[39m)\n\u001b[0;32m      5\u001b[0m \u001b[38;5;28;01melif\u001b[39;00m x\u001b[38;5;241m==\u001b[39m\u001b[38;5;124m'\u001b[39m\u001b[38;5;124mH\u001b[39m\u001b[38;5;124m'\u001b[39m \u001b[38;5;129;01mor\u001b[39;00m x\u001b[38;5;241m==\u001b[39m\u001b[38;5;124m'\u001b[39m\u001b[38;5;124mh\u001b[39m\u001b[38;5;124m'\u001b[39m:\n",
      "\u001b[1;31mException\u001b[0m: Code finished"
     ]
    }
   ],
   "source": [
    "if x=='A' or x=='a' or x=='B' or x=='b' or x=='C' or x=='c' or x=='D' or x=='d' or x=='E' or x=='e' or x=='F' or x=='f' or x=='G' or x=='g':\n",
    "    print('Can be registered as fitting')\n",
    "    input('Press enter to exit...')\n",
    "    raise Exception('Code finished')\n",
    "elif x=='H' or x=='h':\n",
    "    print('\\n\\na- Liquids not more hazardous than water')\n",
    "    print('b- Non-lethal gas or vapour or a non lethal liquid')\n",
    "    print('c- Lethal substances')\n",
    "    print('\\nNote: The jurisdiction is not responsible for determing if a liquid is more hazardous than water. It is the responsibility of owner to decide that. \\nOne can look at the toxicity,  health effects and first aid section of MSDS to decide if the liquid is hazardous than water. \\nLethal substances are poisonous gases or liquids of such a nature that a very small amount of the gas or of the liquid’s vapor mixed or unmixed with air is dangerous to life when inhaled. ')\n",
    "    y=input('\\nEnter the code from above that applies to your service fluid: ')\n",
    "else:\n",
    "    print('Incorrect code entered')\n",
    "    input('Press enter to exit....')\n",
    "    raise Exception(\"Incorrect code\")"
   ]
  },
  {
   "cell_type": "code",
   "execution_count": null,
   "id": "95e77b99",
   "metadata": {},
   "outputs": [],
   "source": [
    "p=input('\\nEnter the MAWP (max. allowable working pressure) of your equipment in kPa: ')\n",
    "p=int(p)"
   ]
  },
  {
   "cell_type": "code",
   "execution_count": null,
   "id": "6a572236",
   "metadata": {},
   "outputs": [],
   "source": [
    "v=input('\\nEnter the volume of your equipment in litres: ')\n",
    "v=int(v)"
   ]
  },
  {
   "cell_type": "code",
   "execution_count": null,
   "id": "8c7cb07f",
   "metadata": {},
   "outputs": [],
   "source": [
    "d=input('\\nEnter the diameter of the vessel in mm: ')\n",
    "d=int(d)"
   ]
  },
  {
   "cell_type": "code",
   "execution_count": null,
   "id": "f803a6f4",
   "metadata": {},
   "outputs": [],
   "source": [
    "t=input('\\nEnter the fluid temperature in deg. C: ')\n",
    "t=int(t)"
   ]
  },
  {
   "cell_type": "code",
   "execution_count": null,
   "id": "cfa3110a",
   "metadata": {},
   "outputs": [],
   "source": [
    "if y=='B' or y=='b':\n",
    "    if p>103:\n",
    "        if p>4140 and v>42.5:\n",
    "            print('Registered as pressure vessel and inspected by authorized inspector')\n",
    "            input('Press enter to exit...')\n",
    "        elif p>4140 and v<=42.5 and d>152:\n",
    "            print('Registered as pressure vessel and inspected by authorized inspector')\n",
    "            input('Press enter to exit...')\n",
    "        elif p>4140 and v<=42.5 and d<=152:\n",
    "            print('Registered as H fitting and inspected by the manufacturer')\n",
    "            input('Press enter to exit...')\n",
    "        elif p<=4140 and v>42.5 and d>152:\n",
    "            print('Registered as pressure vessel and inspected by authorized inspector')\n",
    "            input('Press enter to exit...')\n",
    "        elif p<=4140 and v>42.5 and d<=152:\n",
    "            print('Registered as H fitting and inspected by the manufacturer')\n",
    "            input('Press enter to exit...')\n",
    "        elif p<=4140 and v<=42.5:\n",
    "            print('Registered as H fitting and inspected by the manufacturer')\n",
    "            input('Press enter to exit...')\n",
    "    else:\n",
    "        print('B51 requirement not applicable')\n",
    "        input('Press enter to exit...')\n",
    "elif y=='A' or y=='a':\n",
    "    if p>103:\n",
    "        if t>65 and p>4140 and d>152:\n",
    "            print('Registered as pressure vessel and inspected by authorized inspector')\n",
    "            input('Press enter to exit...')\n",
    "        elif t>65 and p>4140 and d<=152:\n",
    "            print('Registered as H fitting and inspected by the manufacturer')\n",
    "            input('Press enter to exit...')\n",
    "        elif t>65 and p<=4140 and v>42.5 and d>152:\n",
    "            print('Registered as pressure vessel and inspected by authorized inspector')\n",
    "        elif t>65 and p<=4140 and v>42.5 and d<=152:\n",
    "            print('Registered as H fitting and inspected by the manufacturer')\n",
    "            input('Press enter to exit...')\n",
    "        elif t>65 and p<=4140 and v<=42.5:\n",
    "            print('Registered as H fitting and inspected by the manufacturer')\n",
    "            input('Press enter to exit...')\n",
    "        elif t<=65 and p>1720 and v>42.5 and d>152:\n",
    "            print('Registered as pressure vessel and inspected by authorized inspector')\n",
    "            input('Press enter to exit...')\n",
    "        elif t<=65 and p>1720 and v>42.5 and d<=152:\n",
    "            print('Registered as H fitting and inspected by the manufacturer')\n",
    "            input('Press enter to exit...')\n",
    "        elif t<=65 and p>1720 and v<=42.5:\n",
    "            print('Registered as H fitting and inspected by the manufacturer')\n",
    "            input('Press enter to exit...')\n",
    "        elif t<=65 and p<=1720:\n",
    "            print('B51 requirement not applicable')\n",
    "            input('Press enter to exit...')\n",
    "    else:\n",
    "        print('B51 requirement not applicable')\n",
    "        input('Press enter to exit...')\n",
    "elif y=='C' or y=='c':\n",
    "    if p>103:\n",
    "        if v>42.5:\n",
    "            print('Registered as pressure vessel and inspected by authorized inspector')\n",
    "            input('Press enter to exit...')\n",
    "        elif v<=42.5 and d>152:\n",
    "            print('Registered as pressure vessel and inspected by authorized inspector')\n",
    "            input('Press enter to exit...')\n",
    "        elif v<=42.5 and d<=152:\n",
    "            print('Registered as H fitting and inspected by the manufacturer')\n",
    "            input('Press enter to exit...')\n",
    "    else:\n",
    "        print('B51 requirement not applicable')\n",
    "        input('Press enter to exit...')\n",
    "else:\n",
    "    input('Incorrect code entered. Press enter to exit...')\n",
    "    \n",
    "        "
   ]
  }
 ],
 "metadata": {
  "kernelspec": {
   "display_name": "Python 3 (ipykernel)",
   "language": "python",
   "name": "python3"
  },
  "language_info": {
   "codemirror_mode": {
    "name": "ipython",
    "version": 3
   },
   "file_extension": ".py",
   "mimetype": "text/x-python",
   "name": "python",
   "nbconvert_exporter": "python",
   "pygments_lexer": "ipython3",
   "version": "3.10.9"
  }
 },
 "nbformat": 4,
 "nbformat_minor": 5
}
