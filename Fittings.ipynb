{
 "cells": [
  {
   "cell_type": "code",
   "execution_count": 1,
   "id": "59ba7f56",
   "metadata": {},
   "outputs": [
    {
     "name": "stdout",
     "output_type": "stream",
     "text": [
      "A- Pipe fittings like couplings, tees, elbows, wyes, plugs, unions, pipe caps, and reducers\n",
      "B- All flanges\n",
      "C- All line valves\n",
      "D- All types of expansion joints, flexible connections, and hose assemblies\n",
      "E- Strainers, filters, separators, and steam traps\n",
      "F- measuring devices, including pressure gauges, level gauges, sight glasses, levels, and pressure transmitters\n",
      "G- certified capacity-related pressure relief devices acceptable as primary overpressure protection on boilers, pressure vessels and pressure piping, and fusible plugs\n",
      "H- pressure-retaining components that do not fall into Categories A to G\n",
      "Enter the code from the above list that applies to your equipment: h\n"
     ]
    }
   ],
   "source": [
    "print('A- Pipe fittings like couplings, tees, elbows, wyes, plugs, unions, pipe caps, and reducers')\n",
    "print('B- All flanges')\n",
    "print('C- All line valves')\n",
    "print('D- All types of expansion joints, flexible connections, and hose assemblies')\n",
    "print('E- Strainers, filters, separators, and steam traps')\n",
    "print('F- measuring devices, including pressure gauges, level gauges, sight glasses, levels, and pressure transmitters')\n",
    "print('G- certified capacity-related pressure relief devices acceptable as primary overpressure protection on boilers, pressure vessels and pressure piping, and fusible plugs')\n",
    "print('H- pressure-retaining components that do not fall into Categories A to G')\n",
    "x=input('Enter the code from the above list that applies to your equipment: ')"
   ]
  },
  {
   "cell_type": "code",
   "execution_count": 2,
   "id": "1ebe30ce",
   "metadata": {},
   "outputs": [
    {
     "name": "stdout",
     "output_type": "stream",
     "text": [
      "a- Liquids not more hazardous than water\n",
      "b- Non-lethal gas or vapour or a non lethal liquid\n",
      "c- Lethal substances\n",
      "Note: The jurisdiction is not responsible for determing if a liquid is more hazardous than water. It is the responsibility of owner to decide that. One can look at the toxicity,  health effects and first aid section of MSDS to decide if the liquid is hazardous than water. Lethal substances are poisonous gases or liquids of such a nature that a very small amount of the gas or of the liquid’s vapor mixed or unmixed with air is dangerous to life when inhaled. \n",
      "Enter the code from above that applies to your service fluid: b\n"
     ]
    }
   ],
   "source": [
    "if x=='A' or x=='a' or x=='B' or x=='b' or x=='C' or x=='c' or x=='D' or x=='d' or x=='E' or x=='e' or x=='F' or x=='f' or x=='G' or x=='g':\n",
    "    print('Can be registered as fitting')\n",
    "    raise Exception('Code finished')\n",
    "elif x=='H' or x=='h':\n",
    "    print('a- Liquids not more hazardous than water')\n",
    "    print('b- Non-lethal gas or vapour or a non lethal liquid')\n",
    "    print('c- Lethal substances')\n",
    "    print('Note: The jurisdiction is not responsible for determing if a liquid is more hazardous than water. It is the responsibility of owner to decide that. One can look at the toxicity,  health effects and first aid section of MSDS to decide if the liquid is hazardous than water. Lethal substances are poisonous gases or liquids of such a nature that a very small amount of the gas or of the liquid’s vapor mixed or unmixed with air is dangerous to life when inhaled. ')\n",
    "    y=input('Enter the code from above that applies to your service fluid: ')\n",
    "else:\n",
    "    print('Incorrect code entered')\n",
    "    raise Exception(\"Incorrect code\")"
   ]
  },
  {
   "cell_type": "code",
   "execution_count": 3,
   "id": "95e77b99",
   "metadata": {},
   "outputs": [
    {
     "name": "stdout",
     "output_type": "stream",
     "text": [
      "Enter the MAWP (max. allowable working pressure) of your equipment in kPa: 102\n"
     ]
    }
   ],
   "source": [
    "p=input('Enter the MAWP (max. allowable working pressure) of your equipment in kPa: ')\n",
    "p=int(p)"
   ]
  },
  {
   "cell_type": "code",
   "execution_count": 4,
   "id": "6a572236",
   "metadata": {},
   "outputs": [
    {
     "name": "stdout",
     "output_type": "stream",
     "text": [
      "Enter the volume of your equipment in litres: 22\n"
     ]
    }
   ],
   "source": [
    "v=input('Enter the volume of your equipment in litres: ')\n",
    "v=int(v)"
   ]
  },
  {
   "cell_type": "code",
   "execution_count": 5,
   "id": "8c7cb07f",
   "metadata": {},
   "outputs": [
    {
     "name": "stdout",
     "output_type": "stream",
     "text": [
      "Enter the diameter of the vessel in mm: 22\n"
     ]
    }
   ],
   "source": [
    "d=input('Enter the diameter of the vessel in mm: ')\n",
    "d=int(d)"
   ]
  },
  {
   "cell_type": "code",
   "execution_count": 6,
   "id": "3eaf5c61",
   "metadata": {},
   "outputs": [
    {
     "name": "stdout",
     "output_type": "stream",
     "text": [
      "Enter the fluid temperature in deg. C: 22\n"
     ]
    }
   ],
   "source": [
    "t=input('Enter the fluid temperature in deg. C: ')\n",
    "t=int(t)"
   ]
  },
  {
   "cell_type": "code",
   "execution_count": 7,
   "id": "cfa3110a",
   "metadata": {},
   "outputs": [
    {
     "name": "stdout",
     "output_type": "stream",
     "text": [
      "B51 requirement not applicable\n"
     ]
    }
   ],
   "source": [
    "if y=='B' or y=='b':\n",
    "    if p>103:\n",
    "        if p>4140 and v>42.5:\n",
    "            print('Registered as pressure vessel and inspected by authorized inspector')\n",
    "        elif p>4140 and v<=42.5 and d>152:\n",
    "            print('Registered as pressure vessel and inspected by authorized inspector')\n",
    "        elif p>4140 and v<=42.5 and d<=152:\n",
    "            print('Registered as H fitting and inspected by the manufacturer')\n",
    "        elif p<=4140 and v>42.5 and d>152:\n",
    "            print('Registered as pressure vessel and inspected by authorized inspector')\n",
    "        elif p<=4140 and v>42.5 and d<=152:\n",
    "            print('Registered as H fitting and inspected by the manufacturer')\n",
    "        elif p<=4140 and v<=42.5:\n",
    "            print('Registered as H fitting and inspected by the manufacturer')\n",
    "    else:\n",
    "        print('B51 requirement not applicable')\n",
    "elif y=='A' or y=='a':\n",
    "    if p>103:\n",
    "        if t>65 and p>4140 and d>152:\n",
    "            print('Registered as pressure vessel and inspected by authorized inspector')\n",
    "        elif t>65 and p>4140 and d<=152:\n",
    "            print('Registered as H fitting and inspected by the manufacturer')\n",
    "        elif t>65 and p<=4140 and v>42.5 and d>152:\n",
    "            print('Registered as pressure vessel and inspected by authorized inspector')\n",
    "        elif t>65 and p<=4140 and v>42.5 and d<=152:\n",
    "            print('Registered as H fitting and inspected by the manufacturer')\n",
    "        elif t>65 and p<=4140 and v<=42.5:\n",
    "            print('Registered as H fitting and inspected by the manufacturer')\n",
    "        elif t<=65 and p>1720 and v>42.5 and d>152:\n",
    "            print('Registered as pressure vessel and inspected by authorized inspector')\n",
    "        elif t<=65 and p>1720 and v>42.5 and d<=152:\n",
    "            print('Registered as H fitting and inspected by the manufacturer')\n",
    "        elif t<=65 and p>1720 and v<=42.5:\n",
    "            print('Registered as H fitting and inspected by the manufacturer')\n",
    "        elif t<=65 and p<=1720:\n",
    "            print('B51 requirement not applicable')\n",
    "    else:\n",
    "        print('B51 requirement not applicable')\n",
    "elif y=='C' or y=='c':\n",
    "    if p>103:\n",
    "        if v>42.5:\n",
    "            print('Registered as pressure vessel and inspected by authorized inspector')\n",
    "        elif v<=42.5 and d>152:\n",
    "            print('Registered as pressure vessel and inspected by authorized inspector')\n",
    "        elif v<=42.5 and d<=152:\n",
    "            print('Registered as H fitting and inspected by the manufacturer')\n",
    "    else:\n",
    "        print('B51 requirement not applicable')\n",
    "else:\n",
    "    raise Exception(\"Incorrect code entered\")\n",
    "    \n",
    "        "
   ]
  }
 ],
 "metadata": {
  "kernelspec": {
   "display_name": "Python 3 (ipykernel)",
   "language": "python",
   "name": "python3"
  },
  "language_info": {
   "codemirror_mode": {
    "name": "ipython",
    "version": 3
   },
   "file_extension": ".py",
   "mimetype": "text/x-python",
   "name": "python",
   "nbconvert_exporter": "python",
   "pygments_lexer": "ipython3",
   "version": "3.10.9"
  }
 },
 "nbformat": 4,
 "nbformat_minor": 5
}
